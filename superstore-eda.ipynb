{
 "cells": [
  {
   "cell_type": "code",
   "execution_count": 1,
   "id": "a6997258",
   "metadata": {
    "execution": {
     "iopub.execute_input": "2024-12-09T17:55:35.766410Z",
     "iopub.status.busy": "2024-12-09T17:55:35.765910Z",
     "iopub.status.idle": "2024-12-09T17:55:39.008683Z",
     "shell.execute_reply": "2024-12-09T17:55:39.007647Z"
    },
    "id": "6mclXjWrw-8s",
    "papermill": {
     "duration": 3.252071,
     "end_time": "2024-12-09T17:55:39.011132",
     "exception": false,
     "start_time": "2024-12-09T17:55:35.759061",
     "status": "completed"
    },
    "tags": []
   },
   "outputs": [],
   "source": [
    "import pandas as pd\n",
    "import numpy as np\n",
    "import matplotlib.pyplot as plt\n",
    "import seaborn as sns\n",
    "import plotly.express as px"
   ]
  },
  {
   "cell_type": "code",
   "execution_count": 2,
   "id": "0d086851",
   "metadata": {
    "execution": {
     "iopub.execute_input": "2024-12-09T17:55:39.022713Z",
     "iopub.status.busy": "2024-12-09T17:55:39.021894Z",
     "iopub.status.idle": "2024-12-09T17:55:39.353076Z",
     "shell.execute_reply": "2024-12-09T17:55:39.351511Z"
    },
    "id": "zjXe-wb7xP_4",
    "outputId": "fd295568-f321-48cf-a602-ec4cf426e323",
    "papermill": {
     "duration": 0.338978,
     "end_time": "2024-12-09T17:55:39.355040",
     "exception": true,
     "start_time": "2024-12-09T17:55:39.016062",
     "status": "failed"
    },
    "tags": []
   },
   "outputs": [
    {
     "ename": "ModuleNotFoundError",
     "evalue": "No module named 'google.colab'",
     "output_type": "error",
     "traceback": [
      "\u001b[0;31m---------------------------------------------------------------------------\u001b[0m",
      "\u001b[0;31mModuleNotFoundError\u001b[0m                       Traceback (most recent call last)",
      "Cell \u001b[0;32mIn[2], line 1\u001b[0m\n\u001b[0;32m----> 1\u001b[0m \u001b[38;5;28;01mfrom\u001b[39;00m \u001b[38;5;21;01mgoogle\u001b[39;00m\u001b[38;5;21;01m.\u001b[39;00m\u001b[38;5;21;01mcolab\u001b[39;00m \u001b[38;5;28;01mimport\u001b[39;00m drive\n\u001b[1;32m      2\u001b[0m drive\u001b[38;5;241m.\u001b[39mmount(\u001b[38;5;124m\"\u001b[39m\u001b[38;5;124m/content/drive\u001b[39m\u001b[38;5;124m\"\u001b[39m)\n",
      "\u001b[0;31mModuleNotFoundError\u001b[0m: No module named 'google.colab'"
     ]
    }
   ],
   "source": [
    "from google.colab import drive\n",
    "drive.mount(\"/content/drive\")"
   ]
  },
  {
   "cell_type": "code",
   "execution_count": null,
   "id": "6da4fb18",
   "metadata": {
    "id": "b5jiryz8xy6d",
    "papermill": {
     "duration": null,
     "end_time": null,
     "exception": null,
     "start_time": null,
     "status": "pending"
    },
    "tags": []
   },
   "outputs": [],
   "source": [
    "df = pd.read_excel(\"/content/drive/MyDrive/Colab Notebooks/Sample - Superstore.xls\")"
   ]
  },
  {
   "cell_type": "code",
   "execution_count": null,
   "id": "dff38c1b",
   "metadata": {
    "collapsed": true,
    "id": "boLAmyk7MRJW",
    "jupyter": {
     "outputs_hidden": true
    },
    "outputId": "0df7579d-55dc-4530-9074-a21440d51bf1",
    "papermill": {
     "duration": null,
     "end_time": null,
     "exception": null,
     "start_time": null,
     "status": "pending"
    },
    "tags": []
   },
   "outputs": [],
   "source": [
    "df.head(10)"
   ]
  },
  {
   "cell_type": "code",
   "execution_count": null,
   "id": "04674209",
   "metadata": {
    "id": "092Ow2oS0S2j",
    "outputId": "036e1ae2-2ffc-41d2-dfca-be51088abf20",
    "papermill": {
     "duration": null,
     "end_time": null,
     "exception": null,
     "start_time": null,
     "status": "pending"
    },
    "tags": []
   },
   "outputs": [],
   "source": [
    "print(\"\\n Shape:\", df.shape)\n",
    "print('\\n Dimension:', df.ndim)\n"
   ]
  },
  {
   "cell_type": "code",
   "execution_count": null,
   "id": "69c0805c",
   "metadata": {
    "id": "IZu39e5J0foN",
    "outputId": "c67a8184-a0a9-47b4-9b08-9876e881a5ba",
    "papermill": {
     "duration": null,
     "end_time": null,
     "exception": null,
     "start_time": null,
     "status": "pending"
    },
    "tags": []
   },
   "outputs": [],
   "source": [
    "df.info()\n",
    "print(\"\\n Headers:\\n\",df.columns  )"
   ]
  },
  {
   "cell_type": "code",
   "execution_count": null,
   "id": "a1cd424d",
   "metadata": {
    "id": "_Aa8srDU5pPS",
    "papermill": {
     "duration": null,
     "end_time": null,
     "exception": null,
     "start_time": null,
     "status": "pending"
    },
    "tags": []
   },
   "outputs": [],
   "source": [
    "df = df.drop('Row ID', axis=1)"
   ]
  },
  {
   "cell_type": "code",
   "execution_count": null,
   "id": "58b5f4cc",
   "metadata": {
    "id": "vVh6i81U0pm-",
    "outputId": "49ea1967-3bc4-4064-b825-68952c0d464e",
    "papermill": {
     "duration": null,
     "end_time": null,
     "exception": null,
     "start_time": null,
     "status": "pending"
    },
    "tags": []
   },
   "outputs": [],
   "source": [
    "print(\"Missing values:\")\n",
    "print(df.isnull().sum())"
   ]
  },
  {
   "cell_type": "code",
   "execution_count": null,
   "id": "e4c3b78d",
   "metadata": {
    "id": "Rsr82U9RVztc",
    "outputId": "914294fd-535f-487b-f97a-547db31ceaed",
    "papermill": {
     "duration": null,
     "end_time": null,
     "exception": null,
     "start_time": null,
     "status": "pending"
    },
    "tags": []
   },
   "outputs": [],
   "source": [
    "df.nunique(axis=0, dropna=True)"
   ]
  },
  {
   "cell_type": "code",
   "execution_count": null,
   "id": "64c98e6b",
   "metadata": {
    "id": "XBm24mtpcUAM",
    "outputId": "183f17b9-65d2-4830-b8c7-72de450f700f",
    "papermill": {
     "duration": null,
     "end_time": null,
     "exception": null,
     "start_time": null,
     "status": "pending"
    },
    "tags": []
   },
   "outputs": [],
   "source": [
    "categorical_cols = df.select_dtypes(include=['object']).columns.tolist()\n",
    "numerical_cols = df.select_dtypes(include=['number']).columns.tolist()\n",
    "\n",
    "print(\"Categorical Variables:\")\n",
    "print(categorical_cols)\n",
    "\n",
    "print(\"\\nNumerical Variables:\")\n",
    "print(numerical_cols)"
   ]
  },
  {
   "cell_type": "code",
   "execution_count": null,
   "id": "81eca832",
   "metadata": {
    "id": "PPxVoWbIbh2z",
    "outputId": "a489e43a-0898-4d0b-c7e5-7cceef0a86d1",
    "papermill": {
     "duration": null,
     "end_time": null,
     "exception": null,
     "start_time": null,
     "status": "pending"
    },
    "tags": []
   },
   "outputs": [],
   "source": [
    "df[['Sales', 'Quantity','Discount','Profit']].describe().T"
   ]
  },
  {
   "cell_type": "markdown",
   "id": "9b57f342",
   "metadata": {
    "id": "V81gc1Rmz8eD",
    "papermill": {
     "duration": null,
     "end_time": null,
     "exception": null,
     "start_time": null,
     "status": "pending"
    },
    "tags": []
   },
   "source": []
  },
  {
   "cell_type": "code",
   "execution_count": null,
   "id": "789add3e",
   "metadata": {
    "id": "dlXceVK6BRM-",
    "outputId": "9e400807-0d75-4149-ffc7-b003b061c9d2",
    "papermill": {
     "duration": null,
     "end_time": null,
     "exception": null,
     "start_time": null,
     "status": "pending"
    },
    "tags": []
   },
   "outputs": [],
   "source": [
    "numerical_df = df[['Sales', 'Quantity', 'Discount', 'Profit']]\n",
    "correlation_matrix = numerical_df.corr()\n",
    "# Heatmap of correlation matrix\n",
    "plt.figure(figsize=(5,5))\n",
    "sns.heatmap(correlation_matrix, annot=True, cmap='coolwarm', fmt=\".2f\")\n",
    "plt.title(\"Correlation Matrix for Numerical Columns\")\n",
    "plt.show()"
   ]
  },
  {
   "cell_type": "code",
   "execution_count": null,
   "id": "b501c4cf",
   "metadata": {
    "id": "hIey1ojLvYvI",
    "outputId": "22ddca9a-0915-48ec-f581-3e7408ffe112",
    "papermill": {
     "duration": null,
     "end_time": null,
     "exception": null,
     "start_time": null,
     "status": "pending"
    },
    "tags": []
   },
   "outputs": [],
   "source": [
    "top_ship_modes = df.groupby('Ship Mode')['Profit'].sum().nlargest()\n",
    "#bar plot\n",
    "plt.figure(figsize=(7, 5))\n",
    "sns.barplot(y=top_ship_modes.index, x=top_ship_modes.values, palette=\"viridis\")\n",
    "# Add data labels\n",
    "for index, value in enumerate(top_ship_modes.values):\n",
    "    plt.text(value + (value * 0.1), index, f'{value:.2f}', va='center')\n",
    "\n",
    "plt.title('Top Ship Modes by Profit')\n",
    "plt.xlabel('Total Profit')\n",
    "plt.ylabel('Ship Mode')\n",
    "plt.show()"
   ]
  },
  {
   "cell_type": "code",
   "execution_count": null,
   "id": "cf38efa4",
   "metadata": {
    "id": "v_Bgz6yO-qBZ",
    "papermill": {
     "duration": null,
     "end_time": null,
     "exception": null,
     "start_time": null,
     "status": "pending"
    },
    "tags": []
   },
   "outputs": [],
   "source": [
    "# Calculate shipping time in days\n",
    "df['Shipping Time'] = (df['Ship Date'] - df['Order Date']).dt.days\n",
    "\n",
    "# Extract month and year from Order Date\n",
    "df['Order Month'] = df['Order Date'].dt.month\n",
    "df['Order Year'] = df['Order Date'].dt.year"
   ]
  },
  {
   "cell_type": "code",
   "execution_count": null,
   "id": "e1c9cfb3",
   "metadata": {
    "id": "WTJuBJEWjgDe",
    "outputId": "bcc4c77f-a07f-404f-ffe6-0864c5e395b6",
    "papermill": {
     "duration": null,
     "end_time": null,
     "exception": null,
     "start_time": null,
     "status": "pending"
    },
    "tags": []
   },
   "outputs": [],
   "source": [
    "# Bar Plot: Distribution of Shipping Time\n",
    "plt.figure(figsize=(7, 5))\n",
    "sns.histplot(df['Shipping Time'])\n",
    "plt.title('Distribution of Shipping Time')\n",
    "plt.xlabel('Shipping Time (days)')\n",
    "plt.ylabel('Frequency')\n",
    "plt.show()"
   ]
  },
  {
   "cell_type": "code",
   "execution_count": null,
   "id": "55dbdf6e",
   "metadata": {
    "id": "FiWUmI1hoKMZ",
    "outputId": "2c6fdaca-22d7-4d39-c70f-b5fc100dd5f8",
    "papermill": {
     "duration": null,
     "end_time": null,
     "exception": null,
     "start_time": null,
     "status": "pending"
    },
    "tags": []
   },
   "outputs": [],
   "source": [
    "monthly_sales = df.groupby(['Order Year', 'Order Month'])['Sales'].sum().reset_index()\n",
    "\n",
    "plt.figure(figsize=(8, 5))\n",
    "sns.lineplot(data=monthly_sales, x='Order Month', y='Sales', hue='Order Year', palette='tab10')\n",
    "\n",
    "plt.title('Monthly Sales Trend')\n",
    "plt.xlabel('Month')\n",
    "plt.ylabel('Total Sales')\n",
    "plt.xticks(ticks=range(1, 13), labels=['Jan', 'Feb', 'Mar', 'Apr', 'May', 'Jun', 'Jul', 'Aug', 'Sep', 'Oct', 'Nov', 'Dec'])\n",
    "plt.show()"
   ]
  },
  {
   "cell_type": "code",
   "execution_count": null,
   "id": "54a08aa7",
   "metadata": {
    "id": "3gpRbCCxKi9M",
    "outputId": "7f956f88-ac81-4923-8ac9-92c6d35b680a",
    "papermill": {
     "duration": null,
     "end_time": null,
     "exception": null,
     "start_time": null,
     "status": "pending"
    },
    "tags": []
   },
   "outputs": [],
   "source": [
    "avg_profit_by_ship_mode = df.groupby('Ship Mode')['Profit'].mean().nlargest()\n",
    "ax = avg_profit_by_ship_mode.plot(kind='bar', color=['red', 'blue', 'green', 'orange'])\n",
    "\n",
    "# data labels\n",
    "for index, value in enumerate(avg_profit_by_ship_mode):\n",
    "    ax.text(index, value + 0.1, f'{value:.2f}', ha='center', va='bottom')\n",
    "\n",
    "plt.title('Average Profit by Ship Mode')\n",
    "plt.xlabel('Ship Mode')\n",
    "plt.ylabel('Average Profit')\n",
    "plt.show()"
   ]
  },
  {
   "cell_type": "code",
   "execution_count": null,
   "id": "500c41a7",
   "metadata": {
    "id": "jJm9gdiFXtTg",
    "outputId": "50574866-a874-425a-bd40-f876cd7ac403",
    "papermill": {
     "duration": null,
     "end_time": null,
     "exception": null,
     "start_time": null,
     "status": "pending"
    },
    "tags": []
   },
   "outputs": [],
   "source": [
    "city_order_counts = df.groupby('City')['Order ID'].nunique().reset_index()\n",
    "city_order_counts.columns = ['City', 'Order ID']\n",
    "\n",
    "# Plot map\n",
    "fig = px.choropleth(city_order_counts,\n",
    "\n",
    "                    locations=\"City\",               # Locations based on City\n",
    "                    locationmode='country names',   # Adjust this based on your needs\n",
    "                    color=\"Order ID\",            # Color based on the Order Count\n",
    "                    title=\"Order by City\",\n",
    "                    color_continuous_scale=\"Rainbow\"\n",
    ")\n",
    "\n",
    "fig.show()"
   ]
  },
  {
   "cell_type": "code",
   "execution_count": null,
   "id": "c87e449c",
   "metadata": {
    "id": "JGwddQzOAMSl",
    "outputId": "b1eaf297-bc91-4c68-8c82-8e39c6e33e9e",
    "papermill": {
     "duration": null,
     "end_time": null,
     "exception": null,
     "start_time": null,
     "status": "pending"
    },
    "tags": []
   },
   "outputs": [],
   "source": [
    "# Descriptive statistics\n",
    "numerical_summary = df[['Sales', 'Quantity', 'Discount', 'Profit']].describe().round(0).astype(int).T\n",
    "print(numerical_summary)\n"
   ]
  },
  {
   "cell_type": "code",
   "execution_count": null,
   "id": "473270cc",
   "metadata": {
    "id": "sCEla8tGtrTK",
    "outputId": "bafda245-c3f7-438a-cb23-d354855c3059",
    "papermill": {
     "duration": null,
     "end_time": null,
     "exception": null,
     "start_time": null,
     "status": "pending"
    },
    "tags": []
   },
   "outputs": [],
   "source": [
    "# Frequency counts for Ship Mode\n",
    "ship_mode_counts = df['Ship Mode'].value_counts()\n",
    "\n",
    "# Plot: Frequency of Ship Mode\n",
    "ax = ship_mode_counts.plot(kind='bar', figsize=(8, 5), colormap='plasma')\n",
    "plt.title('Frequency of Ship Mode')\n",
    "plt.xlabel('Ship Mode')\n",
    "\n",
    "for index, value in enumerate(ship_mode_counts):\n",
    "    ax.text(index, value + 0.1, f'{value:.2f}', ha='center', va='bottom')\n",
    "\n",
    "plt.ylabel('Count')\n",
    "plt.show()"
   ]
  },
  {
   "cell_type": "code",
   "execution_count": null,
   "id": "7f5a785f",
   "metadata": {
    "id": "2Vxj_buINpY1",
    "outputId": "3fb90c84-e062-403b-f3ad-70dbae730e99",
    "papermill": {
     "duration": null,
     "end_time": null,
     "exception": null,
     "start_time": null,
     "status": "pending"
    },
    "tags": []
   },
   "outputs": [],
   "source": [
    "# Profit by Category\n",
    "profit_by_category = df.groupby('Category')['Profit'].sum().sort_values(ascending=False)\n",
    "\n",
    "#profit by Category\n",
    "ax = profit_by_category.plot(kind='bar', figsize=(8,5), colormap='viridis')\n",
    "plt.title('Total Profit by Category')\n",
    "plt.xlabel('Category')\n",
    "plt.ylabel('Total Profit')\n",
    "\n",
    "# Add data labels\n",
    "for index, value in enumerate(profit_by_category):\n",
    "    ax.text(index, value + 0.1, f'{value:.2f}', ha='center', va='bottom')\n",
    "\n",
    "plt.tight_layout()\n",
    "plt.show()\n"
   ]
  },
  {
   "cell_type": "code",
   "execution_count": null,
   "id": "2a539ba3",
   "metadata": {
    "id": "lb27Ca_aOesO",
    "outputId": "6cf39bb7-7511-4c4a-cb35-5d928b76ac2c",
    "papermill": {
     "duration": null,
     "end_time": null,
     "exception": null,
     "start_time": null,
     "status": "pending"
    },
    "tags": []
   },
   "outputs": [],
   "source": [
    "\n",
    "# top Sub-Categories\n",
    "profit_by_subcategory = df.groupby('Sub-Category')['Profit'].sum().nlargest(5)\n",
    "\n",
    "# Plot: Top 10 Sub-Categories by Profit\n",
    "ax = profit_by_subcategory.plot(kind='bar', figsize=(8,5), colormap='coolwarm')\n",
    "plt.title('Top 10 Sub-Categories by Profit')\n",
    "plt.xlabel('Sub-Category')\n",
    "plt.ylabel('Total Profit')\n",
    "\n",
    "# Add data labels\n",
    "for index, value in enumerate(profit_by_subcategory):\n",
    "    ax.text(index, value + 0.1, f'{value:.2f}', ha='center', va='bottom')\n",
    "\n",
    "plt.tight_layout()\n",
    "plt.show()"
   ]
  },
  {
   "cell_type": "code",
   "execution_count": null,
   "id": "ab2cbced",
   "metadata": {
    "id": "bBkk2wI5uJwx",
    "outputId": "000d4fae-e794-45ba-ea5a-ba75d80ac811",
    "papermill": {
     "duration": null,
     "end_time": null,
     "exception": null,
     "start_time": null,
     "status": "pending"
    },
    "tags": []
   },
   "outputs": [],
   "source": [
    "monthly_profit = df.groupby('Order Month')['Profit'].sum().reset_index()\n",
    "\n",
    "# Plot Profit by Month\n",
    "plt.figure(figsize=(10, 5))\n",
    "plt.plot(monthly_profit['Order Month'], monthly_profit['Profit'], marker='o', color='green', label='Profit')\n",
    "\n",
    "for i, profit in enumerate(monthly_profit['Profit']):\n",
    "    plt.text(monthly_profit['Order Month'][i], profit, f'{profit:,.0f}',\n",
    "             ha='center', va='bottom', fontsize=9, color='black')\n",
    "\n",
    "# Add titles and labels\n",
    "plt.title('Monthly Profit Analysis')\n",
    "plt.xlabel('Month')\n",
    "plt.ylabel('Total Profit')\n",
    "plt.show()"
   ]
  },
  {
   "cell_type": "code",
   "execution_count": null,
   "id": "a77bad19",
   "metadata": {
    "id": "7mydkExMZN18",
    "outputId": "cb3edaa4-f184-4a1a-c6a9-542aea3eb7e5",
    "papermill": {
     "duration": null,
     "end_time": null,
     "exception": null,
     "start_time": null,
     "status": "pending"
    },
    "tags": []
   },
   "outputs": [],
   "source": [
    "# Top City\n",
    "Cities = df.groupby('City')['Sales'].sum().nlargest(5)\n",
    "\n",
    "# Plot the top 5 cities\n",
    "plt.figure(figsize=(10, 8))\n",
    "sns.barplot(y=Cities.index, x=Cities.values, palette=\"viridis\")\n",
    "\n",
    "# Add data labels to the bars\n",
    "for index, value in enumerate(Cities.values):\n",
    "    plt.text(value + (value * 0.01), index, f'${value:,.2f}', va='center')\n",
    "\n",
    "# Set plot labels and title\n",
    "plt.title('Top 5 Cities by Sales')\n",
    "plt.xlabel('Total Sales')\n",
    "plt.ylabel('City')\n",
    "plt.show()"
   ]
  },
  {
   "cell_type": "code",
   "execution_count": null,
   "id": "aad104ba",
   "metadata": {
    "id": "tEwyka3l5CPs",
    "outputId": "3a2a43c6-6bf4-42df-e415-3f4d475a542a",
    "papermill": {
     "duration": null,
     "end_time": null,
     "exception": null,
     "start_time": null,
     "status": "pending"
    },
    "tags": []
   },
   "outputs": [],
   "source": []
  }
 ],
 "metadata": {
  "colab": {
   "provenance": []
  },
  "kaggle": {
   "accelerator": "none",
   "dataSources": [],
   "isGpuEnabled": false,
   "isInternetEnabled": false,
   "language": "python",
   "sourceType": "notebook"
  },
  "kernelspec": {
   "display_name": "Python 3",
   "name": "python3"
  },
  "language_info": {
   "codemirror_mode": {
    "name": "ipython",
    "version": 3
   },
   "file_extension": ".py",
   "mimetype": "text/x-python",
   "name": "python",
   "nbconvert_exporter": "python",
   "pygments_lexer": "ipython3",
   "version": "3.10.14"
  },
  "papermill": {
   "default_parameters": {},
   "duration": 7.021452,
   "end_time": "2024-12-09T17:55:40.081421",
   "environment_variables": {},
   "exception": true,
   "input_path": "__notebook__.ipynb",
   "output_path": "__notebook__.ipynb",
   "parameters": {},
   "start_time": "2024-12-09T17:55:33.059969",
   "version": "2.6.0"
  }
 },
 "nbformat": 4,
 "nbformat_minor": 5
}
